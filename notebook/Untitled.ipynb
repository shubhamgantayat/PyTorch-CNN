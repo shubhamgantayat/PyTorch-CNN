{
 "cells": [
  {
   "cell_type": "code",
   "execution_count": 1,
   "id": "e6407e39",
   "metadata": {},
   "outputs": [],
   "source": [
    "import os\n",
    "import pandas as pd\n",
    "import numpy as np\n",
    "import seaborn as sns\n",
    "import matplotlib.pyplot as plt\n",
    "import torch\n",
    "import torch.nn as nn\n",
    "import torch.nn.functional as F\n",
    "from torch.utils.data import DataLoader\n",
    "from torchvision import transforms, datasets\n",
    "from sklearn.metrics import confusion_matrix\n",
    "from tqdm import tqdm"
   ]
  },
  {
   "cell_type": "code",
   "execution_count": 2,
   "id": "5f870f4d",
   "metadata": {},
   "outputs": [
    {
     "name": "stdout",
     "output_type": "stream",
     "text": [
      "this notebook is using device : cpu\n"
     ]
    }
   ],
   "source": [
    "class Config:\n",
    "    \n",
    "    def __init__(self):\n",
    "        self.ROOT_DATA_DIR = \"FashionMNIST\"\n",
    "        self.EPOCH = 10\n",
    "        self.BATCH_SIZE = 32\n",
    "        self.LEARNING_RATE = 0.01\n",
    "        self.IMAGE_SIZE = (28, 28)\n",
    "        self.DEVICE = \"cuda\" if torch.cuda.is_available() else \"cpu\"\n",
    "        print(f\"this notebook is using device : {self.DEVICE}\")\n",
    "        self.SEED = 2022\n",
    "        \n",
    "config = Config()"
   ]
  },
  {
   "cell_type": "code",
   "execution_count": 3,
   "id": "df34a8ce",
   "metadata": {},
   "outputs": [],
   "source": [
    "train_data = datasets.FashionMNIST(\n",
    "    root = config.ROOT_DATA_DIR,\n",
    "    train = True,\n",
    "    download = True,\n",
    "    transform = transforms.ToTensor()\n",
    ")\n",
    "\n",
    "test_data = datasets.FashionMNIST(\n",
    "    root = config.ROOT_DATA_DIR,\n",
    "    train = True,\n",
    "    download = True,\n",
    "    transform = transforms.ToTensor()\n",
    ")"
   ]
  },
  {
   "cell_type": "code",
   "execution_count": 6,
   "id": "2e623c0a",
   "metadata": {},
   "outputs": [
    {
     "data": {
      "text/plain": [
       "60000"
      ]
     },
     "execution_count": 6,
     "metadata": {},
     "output_type": "execute_result"
    }
   ],
   "source": [
    "len(train_data.data)"
   ]
  },
  {
   "cell_type": "code",
   "execution_count": 8,
   "id": "cbeda9fc",
   "metadata": {},
   "outputs": [
    {
     "data": {
      "text/plain": [
       "torchvision.datasets.mnist.FashionMNIST"
      ]
     },
     "execution_count": 8,
     "metadata": {},
     "output_type": "execute_result"
    }
   ],
   "source": []
  },
  {
   "cell_type": "code",
   "execution_count": 6,
   "id": "7f0796f9",
   "metadata": {},
   "outputs": [
    {
     "data": {
      "text/plain": [
       "{'T-shirt/top': 0,\n",
       " 'Trouser': 1,\n",
       " 'Pullover': 2,\n",
       " 'Dress': 3,\n",
       " 'Coat': 4,\n",
       " 'Sandal': 5,\n",
       " 'Shirt': 6,\n",
       " 'Sneaker': 7,\n",
       " 'Bag': 8,\n",
       " 'Ankle boot': 9}"
      ]
     },
     "execution_count": 6,
     "metadata": {},
     "output_type": "execute_result"
    }
   ],
   "source": [
    "train_data.class_to_idx"
   ]
  },
  {
   "cell_type": "code",
   "execution_count": 7,
   "id": "1efb4ccb",
   "metadata": {},
   "outputs": [
    {
     "data": {
      "text/plain": [
       "tensor([9, 0, 0,  ..., 3, 0, 5])"
      ]
     },
     "execution_count": 7,
     "metadata": {},
     "output_type": "execute_result"
    }
   ],
   "source": [
    "train_data.targets"
   ]
  },
  {
   "cell_type": "code",
   "execution_count": 8,
   "id": "b6041935",
   "metadata": {},
   "outputs": [],
   "source": [
    "label_map = {v:k for k,v in train_data.class_to_idx.items()}"
   ]
  },
  {
   "cell_type": "code",
   "execution_count": 9,
   "id": "0960b4c4",
   "metadata": {},
   "outputs": [
    {
     "data": {
      "text/plain": [
       "{0: 'T-shirt/top',\n",
       " 1: 'Trouser',\n",
       " 2: 'Pullover',\n",
       " 3: 'Dress',\n",
       " 4: 'Coat',\n",
       " 5: 'Sandal',\n",
       " 6: 'Shirt',\n",
       " 7: 'Sneaker',\n",
       " 8: 'Bag',\n",
       " 9: 'Ankle boot'}"
      ]
     },
     "execution_count": 9,
     "metadata": {},
     "output_type": "execute_result"
    }
   ],
   "source": [
    "label_map"
   ]
  },
  {
   "cell_type": "markdown",
   "id": "7880d82d",
   "metadata": {},
   "source": [
    "## Visualize one of the sample"
   ]
  },
  {
   "cell_type": "code",
   "execution_count": 10,
   "id": "b50bae5d",
   "metadata": {},
   "outputs": [
    {
     "data": {
      "image/png": "[encoded data removed]",
      "text/plain": [
       "<Figure size 432x288 with 1 Axes>"
      ]
     },
     "metadata": {
      "needs_background": "light"
     },
     "output_type": "display_data"
    }
   ],
   "source": [
    "def view_sample_img(data, idx, label_map):\n",
    "    plt.imshow(train_data.data[idx], cmap=\"gray\")\n",
    "    plt.title(f\"data label : {label_map[data.targets[idx].item()]}\")\n",
    "    \n",
    "view_sample_img(train_data, 8, label_map)"
   ]
  },
  {
   "cell_type": "code",
   "execution_count": 11,
   "id": "f32a0256",
   "metadata": {},
   "outputs": [],
   "source": [
    "train_data_loader = DataLoader(\n",
    "    dataset = train_data,\n",
    "    batch_size = config.BATCH_SIZE,\n",
    "    shuffle = True\n",
    ")\n",
    "\n",
    "test_data_loader = DataLoader(\n",
    "    dataset = test_data,\n",
    "    batch_size = config.BATCH_SIZE,\n",
    "    shuffle = False\n",
    ")"
   ]
  },
  {
   "cell_type": "code",
   "execution_count": 12,
   "id": "3ac2ec28",
   "metadata": {},
   "outputs": [
    {
     "name": "stdout",
     "output_type": "stream",
     "text": [
      "torch.Size([32, 1, 28, 28])\n",
      "torch.Size([32])\n"
     ]
    }
   ],
   "source": [
    "for images, label in test_data_loader:\n",
    "    print(images.shape)\n",
    "    print(label.shape)\n",
    "    break"
   ]
  },
  {
   "cell_type": "code",
   "execution_count": 13,
   "id": "d8ef59f7",
   "metadata": {},
   "outputs": [],
   "source": [
    "class CNN(nn.Module):\n",
    "    \n",
    "    def __init__(self, in_, out_):\n",
    "        super(CNN, self).__init__()\n",
    "        \n",
    "        self.conv_pool_01 = nn.Sequential(\n",
    "            nn.Conv2d(in_channels=in_, out_channels=8, kernel_size=5, stride=1, padding=0),\n",
    "            nn.ReLU(),\n",
    "            nn.MaxPool2d(kernel_size=2, stride=2)\n",
    "        )\n",
    "        \n",
    "        self.conv_pool_02 = nn.Sequential(\n",
    "            nn.Conv2d(in_channels=8, out_channels=16, kernel_size=5, stride=1, padding=0),\n",
    "            nn.ReLU(),\n",
    "            nn.MaxPool2d(kernel_size=2, stride=2)\n",
    "        )\n",
    "        \n",
    "        self.Flatten = nn.Flatten()\n",
    "        self.FC_01 = nn.Linear(in_features=16*4*4, out_features=128)\n",
    "        self.FC_02 = nn.Linear(in_features=128, out_features=64)\n",
    "        self.FC_03 = nn.Linear(in_features=64, out_features=out_)\n",
    "        \n",
    "    \n",
    "    def forward(self, x):\n",
    "        x = self.conv_pool_01(x)\n",
    "        x = self.conv_pool_02(x)\n",
    "        x = self.Flatten(x)\n",
    "        x = self.FC_01(x)\n",
    "        x = F.relu(x)\n",
    "        x = self.FC_02(x)\n",
    "        x = F.relu(x)\n",
    "        x = self.FC_03(x)\n",
    "        x = F.relu(x)\n",
    "        return x"
   ]
  },
  {
   "cell_type": "code",
   "execution_count": 1,
   "id": "dccde03b",
   "metadata": {},
   "outputs": [
    {
     "ename": "NameError",
     "evalue": "name 'CNN' is not defined",
     "output_type": "error",
     "traceback": [
      "\u001b[1;31m---------------------------------------------------------------------------\u001b[0m",
      "\u001b[1;31mNameError\u001b[0m                                 Traceback (most recent call last)",
      "\u001b[1;32m~\\AppData\\Local\\Temp\\ipykernel_12592\\3325962723.py\u001b[0m in \u001b[0;36m<module>\u001b[1;34m\u001b[0m\n\u001b[1;32m----> 1\u001b[1;33m \u001b[0mmodel\u001b[0m \u001b[1;33m=\u001b[0m \u001b[0mCNN\u001b[0m\u001b[1;33m(\u001b[0m\u001b[1;36m1\u001b[0m\u001b[1;33m,\u001b[0m \u001b[1;36m10\u001b[0m\u001b[1;33m)\u001b[0m\u001b[1;33m\u001b[0m\u001b[1;33m\u001b[0m\u001b[0m\n\u001b[0m\u001b[0;32m      2\u001b[0m \u001b[0mmodel\u001b[0m\u001b[1;33m.\u001b[0m\u001b[0mto\u001b[0m\u001b[1;33m(\u001b[0m\u001b[0mconfig\u001b[0m\u001b[1;33m.\u001b[0m\u001b[0mDEVICE\u001b[0m\u001b[1;33m)\u001b[0m\u001b[1;33m\u001b[0m\u001b[1;33m\u001b[0m\u001b[0m\n\u001b[0;32m      3\u001b[0m \u001b[0mprint\u001b[0m\u001b[1;33m(\u001b[0m\u001b[0mmodel\u001b[0m\u001b[1;33m)\u001b[0m\u001b[1;33m\u001b[0m\u001b[1;33m\u001b[0m\u001b[0m\n",
      "\u001b[1;31mNameError\u001b[0m: name 'CNN' is not defined"
     ]
    }
   ],
   "source": [
    "model = CNN(1, 10)\n",
    "model.to(config.DEVICE)\n",
    "print(model)"
   ]
  },
  {
   "cell_type": "code",
   "execution_count": 15,
   "id": "1a23b1b1",
   "metadata": {},
   "outputs": [
    {
     "data": {
      "text/plain": [
       "Sequential(\n",
       "  (0): Conv2d(8, 16, kernel_size=(5, 5), stride=(1, 1))\n",
       "  (1): ReLU()\n",
       "  (2): MaxPool2d(kernel_size=2, stride=2, padding=0, dilation=1, ceil_mode=False)\n",
       ")"
      ]
     },
     "execution_count": 15,
     "metadata": {},
     "output_type": "execute_result"
    }
   ],
   "source": [
    "model.conv_pool_02"
   ]
  },
  {
   "cell_type": "code",
   "execution_count": 18,
   "id": "39a0406c",
   "metadata": {},
   "outputs": [
    {
     "data": {
      "text/plain": [
       "<generator object Module.parameters at 0x00000210189222C8>"
      ]
     },
     "execution_count": 18,
     "metadata": {},
     "output_type": "execute_result"
    }
   ],
   "source": [
    "model.parameters()"
   ]
  },
  {
   "cell_type": "markdown",
   "id": "0b047f72",
   "metadata": {},
   "source": [
    "## Count the no of trainable parameters"
   ]
  },
  {
   "cell_type": "code",
   "execution_count": 17,
   "id": "6d23ec40",
   "metadata": {},
   "outputs": [
    {
     "data": {
      "text/html": [
       "<style type=\"text/css\">\n",
       "</style>\n",
       "<table id=\"T_72f2d_\">\n",
       "  <caption>Total parameters: {'trainable': 45226, 'non_trainable': 0}</caption>\n",
       "  <thead>\n",
       "    <tr>\n",
       "      <th class=\"blank level0\" >&nbsp;</th>\n",
       "      <th class=\"col_heading level0 col0\" >Modules</th>\n",
       "      <th class=\"col_heading level0 col1\" >Parameters</th>\n",
       "    </tr>\n",
       "  </thead>\n",
       "  <tbody>\n",
       "    <tr>\n",
       "      <th id=\"T_72f2d_level0_row0\" class=\"row_heading level0 row0\" >0</th>\n",
       "      <td id=\"T_72f2d_row0_col0\" class=\"data row0 col0\" >conv_pool_01.0.weight</td>\n",
       "      <td id=\"T_72f2d_row0_col1\" class=\"data row0 col1\" >conv_pool_01.0.weight</td>\n",
       "    </tr>\n",
       "    <tr>\n",
       "      <th id=\"T_72f2d_level0_row1\" class=\"row_heading level0 row1\" >1</th>\n",
       "      <td id=\"T_72f2d_row1_col0\" class=\"data row1 col0\" >conv_pool_01.0.bias</td>\n",
       "      <td id=\"T_72f2d_row1_col1\" class=\"data row1 col1\" >conv_pool_01.0.bias</td>\n",
       "    </tr>\n",
       "    <tr>\n",
       "      <th id=\"T_72f2d_level0_row2\" class=\"row_heading level0 row2\" >2</th>\n",
       "      <td id=\"T_72f2d_row2_col0\" class=\"data row2 col0\" >conv_pool_02.0.weight</td>\n",
       "      <td id=\"T_72f2d_row2_col1\" class=\"data row2 col1\" >conv_pool_02.0.weight</td>\n",
       "    </tr>\n",
       "    <tr>\n",
       "      <th id=\"T_72f2d_level0_row3\" class=\"row_heading level0 row3\" >3</th>\n",
       "      <td id=\"T_72f2d_row3_col0\" class=\"data row3 col0\" >conv_pool_02.0.bias</td>\n",
       "      <td id=\"T_72f2d_row3_col1\" class=\"data row3 col1\" >conv_pool_02.0.bias</td>\n",
       "    </tr>\n",
       "    <tr>\n",
       "      <th id=\"T_72f2d_level0_row4\" class=\"row_heading level0 row4\" >4</th>\n",
       "      <td id=\"T_72f2d_row4_col0\" class=\"data row4 col0\" >FC_01.weight</td>\n",
       "      <td id=\"T_72f2d_row4_col1\" class=\"data row4 col1\" >FC_01.weight</td>\n",
       "    </tr>\n",
       "    <tr>\n",
       "      <th id=\"T_72f2d_level0_row5\" class=\"row_heading level0 row5\" >5</th>\n",
       "      <td id=\"T_72f2d_row5_col0\" class=\"data row5 col0\" >FC_01.bias</td>\n",
       "      <td id=\"T_72f2d_row5_col1\" class=\"data row5 col1\" >FC_01.bias</td>\n",
       "    </tr>\n",
       "    <tr>\n",
       "      <th id=\"T_72f2d_level0_row6\" class=\"row_heading level0 row6\" >6</th>\n",
       "      <td id=\"T_72f2d_row6_col0\" class=\"data row6 col0\" >FC_02.weight</td>\n",
       "      <td id=\"T_72f2d_row6_col1\" class=\"data row6 col1\" >FC_02.weight</td>\n",
       "    </tr>\n",
       "    <tr>\n",
       "      <th id=\"T_72f2d_level0_row7\" class=\"row_heading level0 row7\" >7</th>\n",
       "      <td id=\"T_72f2d_row7_col0\" class=\"data row7 col0\" >FC_02.bias</td>\n",
       "      <td id=\"T_72f2d_row7_col1\" class=\"data row7 col1\" >FC_02.bias</td>\n",
       "    </tr>\n",
       "    <tr>\n",
       "      <th id=\"T_72f2d_level0_row8\" class=\"row_heading level0 row8\" >8</th>\n",
       "      <td id=\"T_72f2d_row8_col0\" class=\"data row8 col0\" >FC_03.weight</td>\n",
       "      <td id=\"T_72f2d_row8_col1\" class=\"data row8 col1\" >FC_03.weight</td>\n",
       "    </tr>\n",
       "    <tr>\n",
       "      <th id=\"T_72f2d_level0_row9\" class=\"row_heading level0 row9\" >9</th>\n",
       "      <td id=\"T_72f2d_row9_col0\" class=\"data row9 col0\" >FC_03.bias</td>\n",
       "      <td id=\"T_72f2d_row9_col1\" class=\"data row9 col1\" >FC_03.bias</td>\n",
       "    </tr>\n",
       "  </tbody>\n",
       "</table>\n"
      ],
      "text/plain": [
       "<pandas.io.formats.style.Styler at 0x210101511c8>"
      ]
     },
     "execution_count": 17,
     "metadata": {},
     "output_type": "execute_result"
    }
   ],
   "source": [
    "from pyparsing.core import ParseAction\n",
    "\n",
    "def count_params(model):\n",
    "    model_params = {\"Modules\": list(), \"Parameters\": list()}\n",
    "    total = {\"trainable\": 0, \"non_trainable\": 0}\n",
    "    for name, parameters in model.named_parameters():\n",
    "        # numel() returns the total no. of elements in the tensor\n",
    "        param = parameters.numel()\n",
    "        if not parameters.requires_grad:\n",
    "            total[\"non_trainable\"] += param\n",
    "            continue\n",
    "        model_params[\"Modules\"].append(name)\n",
    "        model_params[\"Parameters\"].append(name)\n",
    "        total[\"trainable\"] += param\n",
    "\n",
    "    df = pd.DataFrame(model_params)\n",
    "    df = df.style.set_caption(f\"Total parameters: {total}\")\n",
    "    return df\n",
    "\n",
    "count_params(model) "
   ]
  },
  {
   "cell_type": "markdown",
   "id": "7a93b032",
   "metadata": {},
   "source": [
    "## Training loop"
   ]
  },
  {
   "cell_type": "code",
   "execution_count": 19,
   "id": "b2b97208",
   "metadata": {},
   "outputs": [],
   "source": [
    "criterion = nn.CrossEntropyLoss()\n",
    "optimizer = torch.optim.Adam(model.parameters(), lr=config.LEARNING_RATE)"
   ]
  },
  {
   "cell_type": "code",
   "execution_count": 20,
   "id": "50470ba3",
   "metadata": {},
   "outputs": [
    {
     "data": {
      "text/plain": [
       "1875"
      ]
     },
     "execution_count": 20,
     "metadata": {},
     "output_type": "execute_result"
    }
   ],
   "source": [
    "len(train_data_loader) # steps per epoch"
   ]
  },
  {
   "cell_type": "code",
   "execution_count": null,
   "id": "fc8e0a37",
   "metadata": {},
   "outputs": [],
   "source": []
  },
  {
   "cell_type": "code",
   "execution_count": 22,
   "id": "e39ccd2e",
   "metadata": {},
   "outputs": [
    {
     "name": "stderr",
     "output_type": "stream",
     "text": [
      "Epoch 1 / 10: 100%|█████████████████████████████████████████████████████| 1875/1875 [01:09<00:00, 27.04it/s, loss=0.69]\n",
      "Epoch 2 / 10: 100%|████████████████████████████████████████████████████| 1875/1875 [01:15<00:00, 24.91it/s, loss=0.393]\n",
      "Epoch 3 / 10: 100%|████████████████████████████████████████████████████| 1875/1875 [01:03<00:00, 29.40it/s, loss=0.372]\n",
      "Epoch 4 / 10: 100%|████████████████████████████████████████████████████| 1875/1875 [00:57<00:00, 32.84it/s, loss=0.948]\n",
      "Epoch 5 / 10: 100%|████████████████████████████████████████████████████| 1875/1875 [00:56<00:00, 33.17it/s, loss=0.503]\n",
      "Epoch 6 / 10: 100%|████████████████████████████████████████████████████| 1875/1875 [00:58<00:00, 32.13it/s, loss=0.281]\n",
      "Epoch 7 / 10: 100%|████████████████████████████████████████████████████| 1875/1875 [00:57<00:00, 32.82it/s, loss=0.948]\n",
      "Epoch 8 / 10: 100%|████████████████████████████████████████████████████| 1875/1875 [00:56<00:00, 32.97it/s, loss=0.748]\n",
      "Epoch 9 / 10: 100%|████████████████████████████████████████████████████| 1875/1875 [00:57<00:00, 32.67it/s, loss=0.668]\n",
      "Epoch 10 / 10: 100%|███████████████████████████████████████████████████| 1875/1875 [00:57<00:00, 32.51it/s, loss=0.503]\n"
     ]
    }
   ],
   "source": [
    "for epochs in range(config.EPOCH):\n",
    "    with tqdm(train_data_loader) as tqdm_epoch:\n",
    "        for images, labels in tqdm_epoch:\n",
    "            tqdm_epoch.set_description(f\"Epoch {epochs + 1} / {config.EPOCH}\")\n",
    "            \n",
    "            # Put images on device\n",
    "            images = images.to(config.DEVICE)\n",
    "            labels = labels.to(config.DEVICE)\n",
    "            \n",
    "            # Forward pass\n",
    "            outputs = model(images)\n",
    "            loss = criterion(outputs, labels)\n",
    "            \n",
    "            # Backward pass\n",
    "            optimizer.zero_grad() # sets all gradients to zero\n",
    "            loss.backward() # calculate gradient of each weight\n",
    "            optimizer.step() # updates the weights\n",
    "            \n",
    "            tqdm_epoch.set_postfix(loss=loss.item())"
   ]
  },
  {
   "cell_type": "markdown",
   "id": "37068afd",
   "metadata": {},
   "source": [
    "## Save our Model"
   ]
  },
  {
   "cell_type": "code",
   "execution_count": 23,
   "id": "779e7c88",
   "metadata": {},
   "outputs": [],
   "source": [
    "os.makedirs(\"model_dir\", exist_ok=True)\n",
    "model_file_path = os.path.join(\"model_dir\", \"CNN_model.pth\")\n",
    "torch.save(model, model_file_path)"
   ]
  },
  {
   "cell_type": "code",
   "execution_count": null,
   "id": "18a5cce0",
   "metadata": {},
   "outputs": [],
   "source": []
  },
  {
   "cell_type": "markdown",
   "id": "e740ceb4",
   "metadata": {},
   "source": [
    "## Evaluate Model"
   ]
  },
  {
   "cell_type": "code",
   "execution_count": 24,
   "id": "eb8ac396",
   "metadata": {},
   "outputs": [],
   "source": [
    "loaded_model = torch.load(model_file_path)"
   ]
  },
  {
   "cell_type": "code",
   "execution_count": 25,
   "id": "ae89e42c",
   "metadata": {},
   "outputs": [],
   "source": [
    "pred = np.array([])\n",
    "target = np.array([])\n",
    "\n",
    "with torch.no_grad():\n",
    "    for batch, data in enumerate(test_data_loader):\n",
    "        images = data[0].to(config.DEVICE)\n",
    "        labels = data[1].to(config.DEVICE)\n",
    "        \n",
    "        y_pred = model(images)\n",
    "        \n",
    "        pred = np.concatenate((pred, torch.argmax(y_pred, 1).cpu().numpy()))\n",
    "        target = np.concatenate((target, labels.cpu().numpy()))"
   ]
  },
  {
   "cell_type": "markdown",
   "id": "c0df8e42",
   "metadata": {},
   "source": [
    "## Prediction of our model"
   ]
  },
  {
   "cell_type": "code",
   "execution_count": 26,
   "id": "46d81d72",
   "metadata": {},
   "outputs": [],
   "source": [
    "cm = confusion_matrix(target, pred)"
   ]
  },
  {
   "cell_type": "code",
   "execution_count": 27,
   "id": "8ba8a91e",
   "metadata": {},
   "outputs": [
    {
     "data": {
      "text/plain": [
       "array([[4630,    0,   29,  208,   12,    4, 1103,    1,   12,    1],\n",
       "       [5772,    0,    1,  146,    5,    3,   66,    1,    6,    0],\n",
       "       [ 150,    0, 4439,   44,  704,    2,  645,    1,   15,    0],\n",
       "       [ 149,    0,    9, 5369,  311,    0,  160,    0,    1,    1],\n",
       "       [  26,    0,  536,  145, 4841,    0,  450,    0,    2,    0],\n",
       "       [   2,    0,    0,    1,    0, 5565,   77,  272,    2,   81],\n",
       "       [ 751,    0,  353,  159,  469,    2, 4226,    1,   38,    1],\n",
       "       [   0,    0,    0,    0,    1,   96,   27, 5742,    0,  134],\n",
       "       [  25,    0,   18,   24,   33,    7,  124,   11, 5758,    0],\n",
       "       [   0,    0,    0,    0,    0,   16,    6,  240,    1, 5737]],\n",
       "      dtype=int64)"
      ]
     },
     "execution_count": 27,
     "metadata": {},
     "output_type": "execute_result"
    }
   ],
   "source": [
    "cm"
   ]
  },
  {
   "cell_type": "code",
   "execution_count": 28,
   "id": "eb124f63",
   "metadata": {},
   "outputs": [],
   "source": [
    "def predict(data, model, label_map, device, idx = 0):\n",
    "    images, labels = data\n",
    "    img = images[idx]\n",
    "    label = labels[idx]\n",
    "    \n",
    "    plt.imshow(img.squeeze(), cmap=\"gray\")\n",
    "    logit = model(img.unsqueeze(dim=1).to(device))\n",
    "    pred_prob = F.softmax(logit, dim=1)\n",
    "    argmax = torch.argmax(pred_prob).item()\n",
    "    predicted_label = label_map[argmax]\n",
    "    actual_label = label_map[label.item()]\n",
    "    plt.title(f\"actual : {actual_label} | predicted : {predicted_label}\")\n",
    "    return predicted_label, actual_label"
   ]
  },
  {
   "cell_type": "code",
   "execution_count": 36,
   "id": "cfbebf54",
   "metadata": {},
   "outputs": [
    {
     "data": {
      "text/plain": [
       "('Dress', 'T-shirt/top')"
      ]
     },
     "execution_count": 36,
     "metadata": {},
     "output_type": "execute_result"
    },
    {
     "data": {
      "image/png": "[encoded data removed]",
      "text/plain": [
       "<Figure size 432x288 with 1 Axes>"
      ]
     },
     "metadata": {
      "needs_background": "light"
     },
     "output_type": "display_data"
    }
   ],
   "source": [
    "data = next(iter(test_data_loader))\n",
    "predict(data, model, label_map, config.DEVICE, idx=2)"
   ]
  },
  {
   "cell_type": "code",
   "execution_count": 34,
   "id": "cc7f5b90",
   "metadata": {},
   "outputs": [],
   "source": []
  },
  {
   "cell_type": "code",
   "execution_count": null,
   "id": "ea419adc",
   "metadata": {},
   "outputs": [],
   "source": []
  }
 ],
 "metadata": {
  "kernelspec": {
   "display_name": "Python 3 (ipykernel)",
   "language": "python",
   "name": "python3"
  },
  "language_info": {
   "codemirror_mode": {
    "name": "ipython",
    "version": 3
   },
   "file_extension": ".py",
   "mimetype": "text/x-python",
   "name": "python",
   "nbconvert_exporter": "python",
   "pygments_lexer": "ipython3",
   "version": "3.7.13"
  }
 },
 "nbformat": 4,
 "nbformat_minor": 5
}
